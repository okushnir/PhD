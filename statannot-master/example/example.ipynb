{
 "cells": [
  {
   "cell_type": "code",
   "execution_count": 1,
   "metadata": {},
   "outputs": [
    {
     "name": "stdout",
     "output_type": "stream",
     "text": [
      "        Control    FBS 1%    FBS 3%\n",
      "Index                              \n",
      "0      0.494348  1.196539  0.921887\n",
      "1      0.556027  0.940206  1.153515\n",
      "2      0.445540       NaN  1.108820\n",
      "3      0.464731  0.931461  0.956742\n",
      "4      0.393526  0.894547  1.073090\n",
      "5      0.479290       NaN  1.099829\n",
      "6      0.683442  0.936075       NaN\n",
      "7      0.667166       NaN       NaN\n",
      "8      0.526530       NaN       NaN\n",
      "9      0.499731       NaN       NaN\n"
     ]
    }
   ],
   "source": [
    "%matplotlib inline\n",
    "import matplotlib.pyplot as plt\n",
    "import seaborn as sns\n",
    "import pandas as pd\n",
    "import numpy as np\n",
    "from statannot import add_stat_annotation\n",
    "from pandas.compat import StringIO\n",
    "\n",
    "dfstring = \"\"\"Index    Control    \"FBS 1%\"    \"FBS 3%\"\n",
    "0  0.494348  1.196539  0.921887\n",
    "1  0.556027  0.940206  1.153515\n",
    "2  0.445540       NaN  1.108820\n",
    "3  0.464731  0.931461  0.956742\n",
    "4  0.393526  0.894547  1.073090\n",
    "5  0.479290       NaN  1.099829\n",
    "6  0.683442  0.936075       NaN\n",
    "7  0.667166       NaN       NaN\n",
    "8  0.526530       NaN       NaN\n",
    "9  0.499731       NaN       NaN\"\"\"\n",
    "data = pd.read_csv(StringIO(dfstring), delim_whitespace=True, index_col=0)\n",
    "print(data)"
   ]
  },
  {
   "cell_type": "code",
   "execution_count": 2,
   "metadata": {},
   "outputs": [
    {
     "name": "stdout",
     "output_type": "stream",
     "text": [
      "pvalue annotation legend:\n",
      "ns: 5.00e-02 < p <= 1.00e+00\n",
      "*: 1.00e-02 < p <= 5.00e-02\n",
      "**: 1.00e-03 < p <= 1.00e-02\n",
      "***: 1.00e-04 < p <= 1.00e-03\n",
      "****: p <= 1.00e-04\n",
      "\n",
      "Control v.s. FBS 1%: t-test independent samples, P_val=1.809e-06 stat=-8.156e+00\n",
      "Control v.s. FBS 3%: t-test independent samples, P_val=2.400e-08 stat=-1.115e+01\n",
      "FBS 1% v.s. FBS 3%: t-test independent samples, P_val=2.903e-01 stat=-1.124e+00\n"
     ]
    },
    {
     "data": {
      "image/png": "[encoded data removed]",
      "text/plain": [
       "<Figure size 432x288 with 1 Axes>"
      ]
     },
     "metadata": {},
     "output_type": "display_data"
    }
   ],
   "source": [
    "ax = sns.boxplot(data=data)\n",
    "fig = plt.gcf()\n",
    "testResults = add_stat_annotation(ax, data, boxPairList=[('Control','FBS 1%'), ('Control','FBS 3%'), ('FBS 1%','FBS 3%')],\n",
    "                                  test='t-test_ind', textFormat='star', loc='outside', verbose=1)"
   ]
  },
  {
   "cell_type": "code",
   "execution_count": 3,
   "metadata": {},
   "outputs": [
    {
     "data": {
      "text/plain": [
       "(<matplotlib.axes._subplots.AxesSubplot at 0x7fc824cdeb38>,\n",
       " [{'pvalue': 1.8087003768496548e-06,\n",
       "   'testShortName': 't-test_ind',\n",
       "   'formattedOutput': 't-test independent samples, P_val=1.809e-06 stat=-8.156e+00',\n",
       "   'box1': 'Control',\n",
       "   'box2': 'FBS 1%'},\n",
       "  {'pvalue': 2.3996577478049312e-08,\n",
       "   'testShortName': 't-test_ind',\n",
       "   'formattedOutput': 't-test independent samples, P_val=2.400e-08 stat=-1.115e+01',\n",
       "   'box1': 'Control',\n",
       "   'box2': 'FBS 3%'},\n",
       "  {'pvalue': 0.29025778095402,\n",
       "   'testShortName': 't-test_ind',\n",
       "   'formattedOutput': 't-test independent samples, P_val=2.903e-01 stat=-1.124e+00',\n",
       "   'box1': 'FBS 1%',\n",
       "   'box2': 'FBS 3%'}])"
      ]
     },
     "execution_count": 3,
     "metadata": {},
     "output_type": "execute_result"
    }
   ],
   "source": [
    "testResults"
   ]
  },
  {
   "cell_type": "markdown",
   "metadata": {},
   "source": [
    "### Boxplot non-hue"
   ]
  },
  {
   "cell_type": "code",
   "execution_count": 4,
   "metadata": {},
   "outputs": [],
   "source": [
    "sns.set(style=\"whitegrid\")\n",
    "df = sns.load_dataset(\"tips\")"
   ]
  },
  {
   "cell_type": "code",
   "execution_count": 5,
   "metadata": {
    "scrolled": false
   },
   "outputs": [
    {
     "name": "stdout",
     "output_type": "stream",
     "text": [
      "pvalue annotation legend:\n",
      "ns: 5.00e-02 < p <= 1.00e+00\n",
      "*: 1.00e-02 < p <= 5.00e-02\n",
      "**: 1.00e-03 < p <= 1.00e-02\n",
      "***: 1.00e-04 < p <= 1.00e-03\n",
      "****: p <= 1.00e-04\n",
      "\n",
      "Thur v.s. Fri: Mann-Whitney-Wilcoxon test two-sided P_val=6.477e-01 U_stat=6.305e+02\n",
      "Thur v.s. Sat: Mann-Whitney-Wilcoxon test two-sided P_val=4.690e-02 U_stat=2.180e+03\n",
      "Fri v.s. Sun: Mann-Whitney-Wilcoxon test two-sided P_val=2.680e-02 U_stat=4.835e+02\n"
     ]
    },
    {
     "data": {
      "image/png": "[encoded data removed]",
      "text/plain": [
       "<Figure size 432x288 with 1 Axes>"
      ]
     },
     "metadata": {},
     "output_type": "display_data"
    }
   ],
   "source": [
    "x = \"day\"\n",
    "y = \"total_bill\"\n",
    "order = ['Sun', 'Thur', 'Fri', 'Sat']\n",
    "ax = sns.boxplot(data=df, x=x, y=y, order=order)\n",
    "add_stat_annotation(ax, data=df, x=x, y=y, order=order,\n",
    "                    boxPairList=[(\"Thur\", \"Fri\"), (\"Thur\", \"Sat\"), (\"Fri\", \"Sun\")],\n",
    "                    test='Mann-Whitney', textFormat='star', loc='outside', verbose=2)\n",
    "plt.savefig('example1.png', dpi=300, bbox_inches='tight')"
   ]
  },
  {
   "cell_type": "markdown",
   "metadata": {},
   "source": [
    "### Boxplot with hue"
   ]
  },
  {
   "cell_type": "code",
   "execution_count": 6,
   "metadata": {},
   "outputs": [
    {
     "name": "stdout",
     "output_type": "stream",
     "text": [
      "Thur_No v.s. Fri_No: Welch's t-test independent samples, P_val=6.608e-01 stat=-4.702e-01\n",
      "Sat_Yes v.s. Sat_No: Welch's t-test independent samples, P_val=4.324e-01 stat=7.889e-01\n",
      "Sun_No v.s. Thur_Yes: Welch's t-test independent samples, P_val=5.713e-01 stat=5.735e-01\n"
     ]
    },
    {
     "data": {
      "image/png": "[encoded data removed]",
      "text/plain": [
       "<Figure size 432x288 with 1 Axes>"
      ]
     },
     "metadata": {},
     "output_type": "display_data"
    }
   ],
   "source": [
    "x = \"day\"\n",
    "y = \"total_bill\"\n",
    "hue = \"smoker\"\n",
    "ax = sns.boxplot(data=df, x=x, y=y, hue=hue)\n",
    "add_stat_annotation(ax, data=df, x=x, y=y, hue=hue,\n",
    "                    boxPairList=[((\"Thur\", \"No\"), (\"Fri\", \"No\")),\n",
    "                                 ((\"Sat\", \"Yes\"), (\"Sat\", \"No\")),\n",
    "                                 ((\"Sun\", \"No\"), (\"Thur\", \"Yes\"))\n",
    "                                ],\n",
    "                    test='t-test_welch', textFormat='full', pvalueFormatString='{:.2f}', loc='inside', verbose=2)\n",
    "plt.legend(loc='upper left', bbox_to_anchor=(1.03, 1))\n",
    "plt.savefig('example2.png', dpi=300, bbox_inches='tight')"
   ]
  },
  {
   "cell_type": "markdown",
   "metadata": {},
   "source": [
    "### Boxplot with bucketed categories"
   ]
  },
  {
   "cell_type": "code",
   "execution_count": 7,
   "metadata": {},
   "outputs": [
    {
     "data": {
      "text/html": [
       "<div>\n",
       "<style scoped>\n",
       "    .dataframe tbody tr th:only-of-type {\n",
       "        vertical-align: middle;\n",
       "    }\n",
       "\n",
       "    .dataframe tbody tr th {\n",
       "        vertical-align: top;\n",
       "    }\n",
       "\n",
       "    .dataframe thead th {\n",
       "        text-align: right;\n",
       "    }\n",
       "</style>\n",
       "<table border=\"1\" class=\"dataframe\">\n",
       "  <thead>\n",
       "    <tr style=\"text-align: right;\">\n",
       "      <th></th>\n",
       "      <th>total_bill</th>\n",
       "      <th>tip</th>\n",
       "      <th>sex</th>\n",
       "      <th>smoker</th>\n",
       "      <th>day</th>\n",
       "      <th>time</th>\n",
       "      <th>size</th>\n",
       "      <th>tip_bucket</th>\n",
       "    </tr>\n",
       "  </thead>\n",
       "  <tbody>\n",
       "    <tr>\n",
       "      <th>0</th>\n",
       "      <td>16.99</td>\n",
       "      <td>1.01</td>\n",
       "      <td>Female</td>\n",
       "      <td>No</td>\n",
       "      <td>Sun</td>\n",
       "      <td>Dinner</td>\n",
       "      <td>2</td>\n",
       "      <td>(0.991, 4.0]</td>\n",
       "    </tr>\n",
       "    <tr>\n",
       "      <th>1</th>\n",
       "      <td>10.34</td>\n",
       "      <td>1.66</td>\n",
       "      <td>Male</td>\n",
       "      <td>No</td>\n",
       "      <td>Sun</td>\n",
       "      <td>Dinner</td>\n",
       "      <td>3</td>\n",
       "      <td>(0.991, 4.0]</td>\n",
       "    </tr>\n",
       "    <tr>\n",
       "      <th>2</th>\n",
       "      <td>21.01</td>\n",
       "      <td>3.50</td>\n",
       "      <td>Male</td>\n",
       "      <td>No</td>\n",
       "      <td>Sun</td>\n",
       "      <td>Dinner</td>\n",
       "      <td>3</td>\n",
       "      <td>(0.991, 4.0]</td>\n",
       "    </tr>\n",
       "    <tr>\n",
       "      <th>3</th>\n",
       "      <td>23.68</td>\n",
       "      <td>3.31</td>\n",
       "      <td>Male</td>\n",
       "      <td>No</td>\n",
       "      <td>Sun</td>\n",
       "      <td>Dinner</td>\n",
       "      <td>2</td>\n",
       "      <td>(0.991, 4.0]</td>\n",
       "    </tr>\n",
       "    <tr>\n",
       "      <th>4</th>\n",
       "      <td>24.59</td>\n",
       "      <td>3.61</td>\n",
       "      <td>Female</td>\n",
       "      <td>No</td>\n",
       "      <td>Sun</td>\n",
       "      <td>Dinner</td>\n",
       "      <td>4</td>\n",
       "      <td>(0.991, 4.0]</td>\n",
       "    </tr>\n",
       "  </tbody>\n",
       "</table>\n",
       "</div>"
      ],
      "text/plain": [
       "   total_bill   tip     sex smoker  day    time  size    tip_bucket\n",
       "0       16.99  1.01  Female     No  Sun  Dinner     2  (0.991, 4.0]\n",
       "1       10.34  1.66    Male     No  Sun  Dinner     3  (0.991, 4.0]\n",
       "2       21.01  3.50    Male     No  Sun  Dinner     3  (0.991, 4.0]\n",
       "3       23.68  3.31    Male     No  Sun  Dinner     2  (0.991, 4.0]\n",
       "4       24.59  3.61  Female     No  Sun  Dinner     4  (0.991, 4.0]"
      ]
     },
     "execution_count": 7,
     "metadata": {},
     "output_type": "execute_result"
    }
   ],
   "source": [
    "df['tip_bucket'] = pd.cut(df['tip'], 3)\n",
    "df.head()"
   ]
  },
  {
   "cell_type": "code",
   "execution_count": 8,
   "metadata": {},
   "outputs": [
    {
     "data": {
      "text/plain": [
       "[(0.991, 4.0], (4.0, 7.0], (7.0, 10.0]]\n",
       "Categories (3, interval[float64]): [(0.991, 4.0] < (4.0, 7.0] < (7.0, 10.0]]"
      ]
     },
     "execution_count": 8,
     "metadata": {},
     "output_type": "execute_result"
    }
   ],
   "source": [
    "# In this case we just have to pass the list of categories objects to the add_stat_annotation function.\n",
    "\n",
    "tip_bucket_list = df['tip_bucket'].unique()\n",
    "tip_bucket_list"
   ]
  },
  {
   "cell_type": "code",
   "execution_count": 9,
   "metadata": {},
   "outputs": [
    {
     "name": "stdout",
     "output_type": "stream",
     "text": [
      "pvalue annotation legend:\n",
      "ns: 5.00e-02 < p <= 1.00e+00\n",
      "*: 1.00e-02 < p <= 5.00e-02\n",
      "**: 1.00e-03 < p <= 1.00e-02\n",
      "***: 1.00e-04 < p <= 1.00e-03\n",
      "****: p <= 1.00e-04\n",
      "\n",
      "Sat_(7.0, 10.0] v.s. Fri_(0.991, 4.0]: t-test independent samples, P_val=6.176e-07 stat=7.490e+00\n"
     ]
    },
    {
     "data": {
      "text/plain": [
       "<matplotlib.legend.Legend at 0x7fc819703630>"
      ]
     },
     "execution_count": 9,
     "metadata": {},
     "output_type": "execute_result"
    },
    {
     "data": {
      "image/png": "[encoded data removed]",
      "text/plain": [
       "<Figure size 432x288 with 1 Axes>"
      ]
     },
     "metadata": {},
     "output_type": "display_data"
    }
   ],
   "source": [
    "x = \"day\"\n",
    "y = \"total_bill\"\n",
    "hue = \"tip_bucket\"\n",
    "data = df\n",
    "ax = sns.boxplot(data=df, x=x, y=y, hue=hue)\n",
    "boxPlotter = sns.categorical._BoxPlotter(x, y, hue, data, order, hue_order=None,\n",
    "                                         orient=None, width=.8, color=None, palette=None, saturation=.75,\n",
    "                                         dodge=True, fliersize=5, linewidth=None)\n",
    "add_stat_annotation(ax, data=df, x=x, y=y, hue=hue,\n",
    "                    boxPairList=[((\"Sat\", tip_bucket_list[2]), (\"Fri\", tip_bucket_list[0]))],\n",
    "                    test='t-test_ind', loc='inside', verbose=2)\n",
    "plt.legend(loc='upper left', bbox_to_anchor=(1.03, 1))"
   ]
  },
  {
   "cell_type": "markdown",
   "metadata": {},
   "source": [
    "### Tuning y offsets"
   ]
  },
  {
   "cell_type": "code",
   "execution_count": 10,
   "metadata": {},
   "outputs": [
    {
     "name": "stdout",
     "output_type": "stream",
     "text": [
      "Thur_No v.s. Fri_No: t-test independent samples, P_val=7.425e-01 stat=-3.305e-01\n",
      "Sat_Yes v.s. Sat_No: t-test independent samples, P_val=4.304e-01 stat=7.922e-01\n",
      "Sun_No v.s. Thur_Yes: t-test independent samples, P_val=5.623e-01 stat=5.822e-01\n"
     ]
    },
    {
     "data": {
      "text/plain": [
       "<matplotlib.legend.Legend at 0x7fc819433e48>"
      ]
     },
     "execution_count": 10,
     "metadata": {},
     "output_type": "execute_result"
    },
    {
     "data": {
      "image/png": "[encoded data removed]",
      "text/plain": [
       "<Figure size 432x288 with 1 Axes>"
      ]
     },
     "metadata": {},
     "output_type": "display_data"
    }
   ],
   "source": [
    "x = \"day\"\n",
    "y = \"total_bill\"\n",
    "hue = \"smoker\"\n",
    "ax = sns.boxplot(data=df, x=x, y=y, hue=hue)\n",
    "add_stat_annotation(ax, data=df, x=x, y=y, hue=hue,\n",
    "                    boxPairList=[((\"Thur\", \"No\"), (\"Fri\", \"No\")),\n",
    "                                 ((\"Sat\", \"Yes\"), (\"Sat\", \"No\")),\n",
    "                                 ((\"Sun\", \"No\"), (\"Thur\", \"Yes\"))\n",
    "                                ],\n",
    "                    test='t-test_ind', textFormat='full', loc='inside',\n",
    "                    lineOffsetToBox=0.2, lineOffset=0.02, lineHeight=0.02, textOffset=2,\n",
    "                    verbose=2)\n",
    "plt.legend(loc='upper left', bbox_to_anchor=(1.03, 1))"
   ]
  },
  {
   "cell_type": "code",
   "execution_count": 11,
   "metadata": {},
   "outputs": [
    {
     "name": "stdout",
     "output_type": "stream",
     "text": [
      "pvalue annotation legend:\n",
      "ns: 5.00e-02 < p <= 1.00e+00\n",
      "*: 1.00e-02 < p <= 5.00e-02\n",
      "**: 1.00e-03 < p <= 1.00e-02\n",
      "***: 1.00e-04 < p <= 1.00e-03\n",
      "****: p <= 1.00e-04\n",
      "\n",
      "Sun_Yes v.s. Sun_No: t-test independent samples, P_val=1.233e-01 stat=1.559e+00\n",
      "Sat_Yes v.s. Sat_No: t-test independent samples, P_val=4.304e-01 stat=7.922e-01\n",
      "Thur_Yes v.s. Thur_No: t-test independent samples, P_val=3.591e-01 stat=9.242e-01\n",
      "Fri_Yes v.s. Fri_No: t-test independent samples, P_val=7.415e-01 stat=-3.353e-01\n"
     ]
    },
    {
     "data": {
      "text/plain": [
       "<matplotlib.legend.Legend at 0x7fc8193fd6a0>"
      ]
     },
     "execution_count": 11,
     "metadata": {},
     "output_type": "execute_result"
    },
    {
     "data": {
      "image/png": "[encoded data removed]",
      "text/plain": [
       "<Figure size 432x288 with 1 Axes>"
      ]
     },
     "metadata": {},
     "output_type": "display_data"
    }
   ],
   "source": [
    "# In certain cases, we would prefer to place each annotation just above the boxes,\n",
    "# without increasing the y offset.\n",
    "\n",
    "x = \"day\"\n",
    "y = \"total_bill\"\n",
    "hue = \"smoker\"\n",
    "ax = sns.boxplot(data=df, x=x, y=y, hue=hue)\n",
    "add_stat_annotation(ax, data=df, x=x, y=y, hue=hue,\n",
    "                    boxPairList=[((day, \"Yes\"), (day, \"No\")) for day in df['day'].unique()],\n",
    "                    test='t-test_ind', textFormat='star', loc='inside',\n",
    "                    stack=False)\n",
    "plt.legend(loc='upper left', bbox_to_anchor=(1.03, 1))"
   ]
  }
 ],
 "metadata": {
  "kernelspec": {
   "display_name": "Python 3",
   "language": "python",
   "name": "python3"
  },
  "language_info": {
   "codemirror_mode": {
    "name": "ipython",
    "version": 3
   },
   "file_extension": ".py",
   "mimetype": "text/x-python",
   "name": "python",
   "nbconvert_exporter": "python",
   "pygments_lexer": "ipython3",
   "version": "3.6.5"
  },
  "toc": {
   "base_numbering": 1,
   "nav_menu": {},
   "number_sections": true,
   "sideBar": true,
   "skip_h1_title": false,
   "title_cell": "Table of Contents",
   "title_sidebar": "Contents",
   "toc_cell": false,
   "toc_position": {},
   "toc_section_display": true,
   "toc_window_display": false
  }
 },
 "nbformat": 4,
 "nbformat_minor": 2
}
